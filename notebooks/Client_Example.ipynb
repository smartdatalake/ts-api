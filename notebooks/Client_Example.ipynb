{
 "cells": [
  {
   "cell_type": "markdown",
   "metadata": {},
   "source": [
    "<br>\n",
    "<br>\n",
    " <center> <font size = \"5\">Client Post Request  </font></center>\n",
    " <br>\n",
    " <center> <font size = \"4\"> API Functions - Forecasting\n",
    " </font></center>\n",
    " <br>\n",
    " <center> <font size = \"3\"> Athena RIC</font></center>\n",
    "<br>\n",
    "<br>\n",
    "\n",
    "---"
   ]
  },
  {
   "cell_type": "markdown",
   "metadata": {},
   "source": [
    "### Imports"
   ]
  },
  {
   "cell_type": "code",
   "execution_count": null,
   "metadata": {},
   "outputs": [],
   "source": [
    "import json\n",
    "import pandas as pd\n",
    "from datetime import datetime\n",
    "from bokeh.plotting import figure, show\n",
    "from bokeh.layouts import layout\n",
    "from bokeh.io import output_notebook\n",
    "from statsmodels.tsa.holtwinters import ExponentialSmoothing as HWES\n",
    "from matplotlib import pyplot as plt\n",
    "from statsmodels.tsa.seasonal import seasonal_decompose\n",
    "from sklearn.metrics import mean_squared_error\n",
    "import numpy as np\n",
    "from itertools import combinations\n",
    "import requests\n"
   ]
  },
  {
   "cell_type": "markdown",
   "metadata": {},
   "source": [
    "<br>\n",
    "\n",
    "### Simple Example with custom time series (String data)"
   ]
  },
  {
   "cell_type": "code",
   "execution_count": null,
   "metadata": {},
   "outputs": [],
   "source": [
    "url = 'http://H O S T/time_series/forecast'\n",
    "\n",
    "payload = dict(start=8, end=14, forecast_range=2, period=[2,3,4,6,8,12,16], data = ['2','4','6','8','10','12','14','16','18','20','22','24','26','28','30'],locale = 'None',api_key='XXXX')\n",
    "data = payload\n",
    "\n",
    "res = requests.post(url, json = data)\n",
    "print(res.text)"
   ]
  },
  {
   "cell_type": "markdown",
   "metadata": {},
   "source": [
    "<br>\n",
    "\n",
    "### Decompose with custom time series (String data)"
   ]
  },
  {
   "cell_type": "code",
   "execution_count": null,
   "metadata": {},
   "outputs": [],
   "source": [
    "url = 'http://H O S T/time_series/decompose'\n",
    "\n",
    "payload = dict(data = ['2','4','6','8','10','12','14','16','18','20','22','24','26','28'],model = 'multiplicative', period = 2,locale = 'None',api_key = \"XXXX\")\n",
    "data = payload\n",
    "\n",
    "res = requests.post(url, json = data)\n",
    "print(res.text)"
   ]
  },
  {
   "cell_type": "markdown",
   "metadata": {},
   "source": [
    "<br>\n",
    "\n",
    "### Simple Example with custom time series (float data)"
   ]
  },
  {
   "cell_type": "code",
   "execution_count": null,
   "metadata": {},
   "outputs": [],
   "source": [
    "url = 'http://H O S T/time_series/forecast'\n",
    "\n",
    "payload = dict(start=8, end=9, forecast_range = 3, period = [2],data = [2,4,6,8,10,12,14,16,18,20,22,24,26,28,30,32],locale = 'None',api_key=\"XXXX\")\n",
    "data = payload\n",
    "\n",
    "res = requests.post(url, json = data)\n",
    "print(res.text)"
   ]
  },
  {
   "cell_type": "markdown",
   "metadata": {},
   "source": [
    "<br>\n",
    "\n",
    "### Simple Example with custom time series (String data (German locale))"
   ]
  },
  {
   "cell_type": "code",
   "execution_count": null,
   "metadata": {},
   "outputs": [],
   "source": [
    "url = 'http://H O S T/time_series/forecast'\n",
    "\n",
    "payload = dict(start=8, end=9, forecast_range = 3, period = [2], data = ['2,1','4,2','6,1','8,2','10,1','12,1','14,2','16,1','18,2','20,1','22,2','24,1','26,2','28,1','30,2'],locale = 'de_DE.utf8',api_key=\"XXXX\")\n",
    "data = payload\n",
    "\n",
    "res = requests.post(url, json = data)\n",
    "print(res.text)"
   ]
  },
  {
   "cell_type": "markdown",
   "metadata": {},
   "source": [
    "<br>\n",
    "\n",
    "### Example Catalog"
   ]
  },
  {
   "cell_type": "code",
   "execution_count": null,
   "metadata": {},
   "outputs": [],
   "source": [
    "url = 'http://H O S T/time_series/catalog'\n",
    "\n",
    "res = requests.get(url)\n",
    "print(res.text)"
   ]
  },
  {
   "cell_type": "code",
   "execution_count": null,
   "metadata": {},
   "outputs": [],
   "source": [
    "url = 'http://H O S T/time_series/forecast'\n",
    "\n",
    "payload = dict(start=100, end=106, forecast_range = 2, period = [256,7,14,2,4,300], data = 'EU- Corn Future_0011B1.txt',locale = 'None',api_key=\"XXXX\")\n",
    "data = payload\n",
    "\n",
    "res = requests.post(url, json = data)\n",
    "print(res.text)"
   ]
  }
 ],
 "metadata": {
  "kernelspec": {
   "display_name": "Python 3",
   "language": "python",
   "name": "python3"
  },
  "language_info": {
   "codemirror_mode": {
    "name": "ipython",
    "version": 3
   },
   "file_extension": ".py",
   "mimetype": "text/x-python",
   "name": "python",
   "nbconvert_exporter": "python",
   "pygments_lexer": "ipython3",
   "version": "3.7.6"
  }
 },
 "nbformat": 4,
 "nbformat_minor": 4
}
