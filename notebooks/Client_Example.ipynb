{
 "cells": [
  {
   "cell_type": "markdown",
   "metadata": {},
   "source": [
    "<br>\n",
    "<br>\n",
    " <center> <font size = \"5\">Client Post Request  </font></center>\n",
    " <br>\n",
    " <center> <font size = \"4\"> API Functions\n",
    " </font></center>\n",
    " <br>\n",
    " <img src = 'data:image/jpeg;base64,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'  width=\"160\">\n",
    "<br>\n",
    "<br>\n",
    "\n",
    "---"
   ]
  },
  {
   "cell_type": "markdown",
   "metadata": {},
   "source": [
    "### Imports"
   ]
  },
  {
   "cell_type": "code",
   "execution_count": null,
   "metadata": {},
   "outputs": [],
   "source": [
    "import json\n",
    "import pandas as pd\n",
    "from datetime import datetime\n",
    "from bokeh.plotting import figure, show\n",
    "from bokeh.layouts import layout\n",
    "from bokeh.io import output_notebook\n",
    "from statsmodels.tsa.holtwinters import ExponentialSmoothing as HWES\n",
    "from matplotlib import pyplot as plt\n",
    "from statsmodels.tsa.seasonal import seasonal_decompose\n",
    "from sklearn.metrics import mean_squared_error\n",
    "import numpy as np\n",
    "from itertools import combinations\n",
    "import requests\n",
    "import logging\n",
    "from random import random\n",
    "import seaborn as sn"
   ]
  },
  {
   "cell_type": "markdown",
   "metadata": {},
   "source": [
    "<br>\n",
    "\n",
    "### Forecast Simple Example with custom time series (String data)"
   ]
  },
  {
   "cell_type": "code",
   "execution_count": null,
   "metadata": {},
   "outputs": [],
   "source": [
    "url = 'http://H O S T/time_series/forecast'\n",
    "\n",
    "payload = dict(start=8, end=14, forecast_range=2, period=[2,3,4,6,8,12,16], data = ['2','4','6','8','10','12','14','16','18','20','22','24','26','28','30'],locale = 'None',api_key='XXXX')\n",
    "data = payload\n",
    "\n",
    "res = requests.post(url, json = data)\n",
    "print(res.text)"
   ]
  },
  {
   "cell_type": "markdown",
   "metadata": {},
   "source": [
    "<br>\n",
    "\n",
    "### Decompose with custom time series (String data)"
   ]
  },
  {
   "cell_type": "code",
   "execution_count": null,
   "metadata": {},
   "outputs": [],
   "source": [
    "url = 'http://H O S T/time_series/decompose'\n",
    "\n",
    "payload = dict(data = ['2','4','6','8','10','12','14','16','18','20','22','24','26','28'],model = 'multiplicative', period = 2,locale = 'None',api_key = \"XXXX\")\n",
    "data = payload\n",
    "\n",
    "res = requests.post(url, json = data)\n",
    "print(res.text)"
   ]
  },
  {
   "cell_type": "markdown",
   "metadata": {},
   "source": [
    "<br>\n",
    "\n",
    "### Forecast Simple Example with custom time series (float data)"
   ]
  },
  {
   "cell_type": "code",
   "execution_count": null,
   "metadata": {},
   "outputs": [],
   "source": [
    "url = 'http://H O S T/time_series/forecast'\n",
    "\n",
    "payload = dict(start=8, end=9, forecast_range = 3, period = [2],data = [2,4,6,8,10,12,14,16,18,20,22,24,26,28,30,32],locale = 'None',api_key=\"XXXX\")\n",
    "data = payload\n",
    "\n",
    "res = requests.post(url, json = data)\n",
    "print(res.text)"
   ]
  },
  {
   "cell_type": "markdown",
   "metadata": {},
   "source": [
    "<br>\n",
    "\n",
    "### Forecast Simple Example with custom time series (String data (German locale))"
   ]
  },
  {
   "cell_type": "code",
   "execution_count": null,
   "metadata": {},
   "outputs": [],
   "source": [
    "url = 'http://H O S T/time_series/forecast'\n",
    "\n",
    "payload = dict(start=8, end=9, forecast_range = 3, period = [2], data = ['2,1','4,2','6,1','8,2','10,1','12,1','14,2','16,1','18,2','20,1','22,2','24,1','26,2','28,1','30,2'],locale = 'de_DE.utf8',api_key=\"XXXX\")\n",
    "data = payload\n",
    "\n",
    "res = requests.post(url, json = data)\n",
    "print(res.text)"
   ]
  },
  {
   "cell_type": "markdown",
   "metadata": {},
   "source": [
    "<br>\n",
    "\n",
    "### Example Catalog"
   ]
  },
  {
   "cell_type": "code",
   "execution_count": null,
   "metadata": {},
   "outputs": [],
   "source": [
    "url = 'http://H O S T/time_series/catalog'\n",
    "\n",
    "res = requests.get(url)\n",
    "print(res.text)"
   ]
  },
  {
   "cell_type": "code",
   "execution_count": null,
   "metadata": {},
   "outputs": [],
   "source": [
    "url = 'http://H O S T/time_series/forecast'\n",
    "\n",
    "payload = dict(start=100, end=106, forecast_range = 2, period = [256,7,14,2,4,300], data = 'EU- Corn Future_0011B1.txt',locale = 'None',api_key=\"XXXX\")\n",
    "data = payload\n",
    "\n",
    "res = requests.post(url, json = data)\n",
    "print(res.text)"
   ]
  },
  {
   "cell_type": "markdown",
   "metadata": {},
   "source": [
    "<br>\n",
    "\n",
    "### API 'correlate()' call example using custom data"
   ]
  },
  {
   "cell_type": "code",
   "execution_count": null,
   "metadata": {},
   "outputs": [],
   "source": [
    "# Create Data\n",
    "# -----------\n",
    "time_series_1 = [i*2 for i in range(1,31)]\n",
    "time_series_2 = [i*3 for i in range(1,31)]\n",
    "time_series_3 = [random() for i in range(1,31)]\n",
    "\n",
    "data = [time_series_1,time_series_2,time_series_3]\n",
    "\n",
    "\n",
    "# API call\n",
    "# -------\n",
    "url = 'http://H O S T/time_series/correlate'\n",
    "\n",
    "payload = dict(data=data, start=0, window_size=3, step_size=3 ,steps=3 ,correlation_method='pearson', locale='None',api_key=\"XXXX\")\n",
    "data = payload\n",
    "\n",
    "res = requests.post(url, json = data)\n",
    "\n",
    "\n",
    "# Results Visualisation\n",
    "# --------------------\n",
    "data = res.json()\n",
    "\n",
    "data = data['correlations']\n",
    "\n",
    "for i in range(0,len(data)):\n",
    "    pd.DataFrame(data[i])\n",
    "    sn.heatmap(pd.DataFrame(data[i],columns=['A','B','C']), annot=True)\n",
    "    plt.show()"
   ]
  },
  {
   "cell_type": "markdown",
   "metadata": {},
   "source": [
    "### API 'correlate()' call example using sftp data"
   ]
  },
  {
   "cell_type": "code",
   "execution_count": null,
   "metadata": {},
   "outputs": [],
   "source": [
    "# Call catalog to see the available data on the sftp\n",
    "# --------------------------------------------------\n",
    "\n",
    "url = 'http://H O S T/time_series/catalog'\n",
    "\n",
    "res = requests.get(url)\n",
    "print(res.text)"
   ]
  },
  {
   "cell_type": "code",
   "execution_count": null,
   "metadata": {},
   "outputs": [],
   "source": [
    "# Select data\n",
    "# -----------\n",
    "\n",
    "data = [\"EU- Corn Future_0011B1.txt\", \"EU- Milling Wheat Future_0011B2.txt\",\"GB- Robusta Coffee Fut. (409)_001071.txt\"]\n",
    "\n",
    "\n",
    "# API call\n",
    "# -------\n",
    "url = 'http://H O S T/time_series/correlate'\n",
    "\n",
    "payload = dict(data=data, start=0, window_size=3, step_size=100 ,steps=3 ,correlation_method='pearson', locale='None',api_key = 'XXXX')\n",
    "data = payload\n",
    "\n",
    "res = requests.post(url, json = data)\n",
    "\n",
    "\n",
    "# Results Visualisation\n",
    "# --------------------\n",
    "data = res.json()\n",
    "\n",
    "data = data['correlations']\n",
    "\n",
    "for i in range(0,len(data)):\n",
    "    pd.DataFrame(data[i])\n",
    "    sn.heatmap(pd.DataFrame(data[i],columns=['A','B','C']), annot=True)\n",
    "    plt.show()"
   ]
  }
 ],
 "metadata": {
  "kernelspec": {
   "display_name": "Python 3",
   "language": "python",
   "name": "python3"
  },
  "language_info": {
   "codemirror_mode": {
    "name": "ipython",
    "version": 3
   },
   "file_extension": ".py",
   "mimetype": "text/x-python",
   "name": "python",
   "nbconvert_exporter": "python",
   "pygments_lexer": "ipython3",
   "version": "3.7.6"
  }
 },
 "nbformat": 4,
 "nbformat_minor": 4
}
